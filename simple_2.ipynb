{
  "nbformat": 4,
  "nbformat_minor": 0,
  "metadata": {
    "colab": {
      "name": "simple_2.ipynb",
      "provenance": []
    },
    "kernelspec": {
      "name": "python3",
      "display_name": "Python 3"
    },
    "language_info": {
      "name": "python"
    }
  },
  "cells": [
    {
      "cell_type": "code",
      "source": [
        ""
      ],
      "metadata": {
        "id": "NP46-ADU-wOa"
      },
      "execution_count": null,
      "outputs": []
    },
    {
      "cell_type": "code",
      "execution_count": null,
      "metadata": {
        "id": "Ac4S0Dc54fJn",
        "outputId": "c04c66ba-2ef7-410e-f7cf-7f41a74b7e3e"
      },
      "outputs": [
        {
          "data": {
            "text/plain": [
              "{'临潼区': 76, '兴平市': 2, '新城区': 111, '未央区': 172, '泾阳县': 26, '渭城区': 67, '灞桥区': 91, '碑林区': 196, '礼泉县': 1, '秦都区': 90, '莲湖区': 160, '蓝田县': 13, '鄠邑区': 64, '长安区': 119, '雁塔区': 393, '高陵区': 50}"
            ]
          },
          "execution_count": 39,
          "metadata": {},
          "output_type": "execute_result"
        }
      ],
      "source": [
        "# 3.3 第二份 各区教育poi统计\n",
        "data = pandas.read_json('./data/poi_8_education.json')\n",
        "d = data.groupby(\"area\")\n",
        "d = d.groups\n",
        "for k,v in d.items():\n",
        "    d[k] = len(v)\n",
        "d"
      ]
    }
  ]
}